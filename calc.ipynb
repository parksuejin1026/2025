{
 "cells": [
  {
   "cell_type": "code",
   "execution_count": 1,
   "id": "a791a7e0",
   "metadata": {},
   "outputs": [
    {
     "name": "stdout",
     "output_type": "stream",
     "text": [
      "300.0 + 123.0 = 423.0\n"
     ]
    }
   ],
   "source": [
    "def add(a,b):\n",
    "    return a+b\n",
    "\n",
    "num1 = float(input(\"첫 번째 숫자를 입력하세요\"))\n",
    "\n",
    "num2 = float(input(\"두 번째 숫자를 입력하세요\"))\n",
    "\n",
    "result = add(num1,num2)\n",
    "print(f\"{num1} + {num2} = {result}\")"
   ]
  }
 ],
 "metadata": {
  "kernelspec": {
   "display_name": "base",
   "language": "python",
   "name": "python3"
  },
  "language_info": {
   "codemirror_mode": {
    "name": "ipython",
    "version": 3
   },
   "file_extension": ".py",
   "mimetype": "text/x-python",
   "name": "python",
   "nbconvert_exporter": "python",
   "pygments_lexer": "ipython3",
   "version": "3.13.5"
  }
 },
 "nbformat": 4,
 "nbformat_minor": 5
}
