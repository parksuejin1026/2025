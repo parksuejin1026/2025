{
 "cells": [
  {
   "cell_type": "code",
   "execution_count": 2,
   "id": "a791a7e0",
   "metadata": {},
   "outputs": [
    {
     "name": "stdout",
     "output_type": "stream",
     "text": [
      "===== 파이썬 사칙연산 계산기 =====\n",
      "1. 더하기\n",
      "2. 빼기\n",
      "3. 곱하기\n",
      "4. 나누기\n",
      "40.0 - 20.0 = 20.0\n",
      "40.0 * 10.0 = 400.0\n",
      "계산기를 종료합니다.\n"
     ]
    }
   ],
   "source": [
    "def add(x, y):\n",
    "  \"\"\"두 숫자를 더하는 함수\"\"\"\n",
    "  return x + y\n",
    "\n",
    "def subtract(x, y):\n",
    "  \"\"\"두 숫자에서 첫 번째 숫자에서 두 번째 숫자를 빼는 함수\"\"\"\n",
    "  return x - y\n",
    "\n",
    "def multiply(x, y):\n",
    "  \"\"\"두 숫자를 곱하는 함수\"\"\"\n",
    "  return x * y\n",
    "\n",
    "def divide(x, y):\n",
    "  \"\"\"두 숫자를 나누는 함수 (0으로 나누는 경우 예외 처리)\"\"\"\n",
    "  if y == 0:\n",
    "    return \"오류: 0으로 나눌 수 없습니다.\"\n",
    "  else:\n",
    "    return x / y\n",
    "\n",
    "print(\"===== 파이썬 사칙연산 계산기 =====\")\n",
    "print(\"1. 더하기\")\n",
    "print(\"2. 빼기\")\n",
    "print(\"3. 곱하기\")\n",
    "print(\"4. 나누기\")\n",
    "\n",
    "while True:\n",
    "  # 사용자로부터 연산 선택 받기\n",
    "  choice = input(\"원하는 연산을 선택하세요 (1/2/3/4): \")\n",
    "\n",
    "  # 선택이 올바른지 확인\n",
    "  if choice in ('1', '2', '3', '4'):\n",
    "    try:\n",
    "      num1 = float(input(\"첫 번째 숫자를 입력하세요: \"))\n",
    "      num2 = float(input(\"두 번째 숫자를 입력하세요: \"))\n",
    "    except ValueError:\n",
    "      print(\"잘못된 입력입니다. 숫자를 입력해주세요.\")\n",
    "      continue # 다시 입력받기\n",
    "\n",
    "    if choice == '1':\n",
    "      print(f\"{num1} + {num2} = {add(num1, num2)}\")\n",
    "    elif choice == '2':\n",
    "      print(f\"{num1} - {num2} = {subtract(num1, num2)}\")\n",
    "    elif choice == '3':\n",
    "      print(f\"{num1} * {num2} = {multiply(num1, num2)}\")\n",
    "    elif choice == '4':\n",
    "      print(f\"{num1} / {num2} = {divide(num1, num2)}\")\n",
    "\n",
    "    # 다른 연산을 할 것인지 묻기\n",
    "    next_calculation = input(\"다른 연산을 하시겠습니까? (yes/no): \")\n",
    "    if next_calculation.lower() != 'yes':\n",
    "      print(\"계산기를 종료합니다.\")\n",
    "      break # while 루프 종료\n",
    "  else:\n",
    "    print(\"잘못된 입력입니다. 1, 2, 3, 4 중에서 선택해주세요.\")"
   ]
  },
  {
   "cell_type": "code",
   "execution_count": null,
   "id": "592c4754",
   "metadata": {},
   "outputs": [],
   "source": []
  }
 ],
 "metadata": {
  "kernelspec": {
   "display_name": "base",
   "language": "python",
   "name": "python3"
  },
  "language_info": {
   "codemirror_mode": {
    "name": "ipython",
    "version": 3
   },
   "file_extension": ".py",
   "mimetype": "text/x-python",
   "name": "python",
   "nbconvert_exporter": "python",
   "pygments_lexer": "ipython3",
   "version": "3.13.5"
  }
 },
 "nbformat": 4,
 "nbformat_minor": 5
}
