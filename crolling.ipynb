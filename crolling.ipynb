{
 "cells": [
  {
   "cell_type": "code",
   "execution_count": null,
   "id": "81eb26ab",
   "metadata": {},
   "outputs": [],
   "source": []
  },
  {
   "cell_type": "code",
   "execution_count": 3,
   "id": "869dd484",
   "metadata": {},
   "outputs": [],
   "source": [
    "import requests\n",
    "from bs4 import BeautifulSoup\n",
    "\n",
    "# 1. 크롤링할 웹 페이지 URL\n",
    "url = 'https://www.aitimes.com/news/articleList.html?sc_sub_section_id=S2N1'\n",
    "\n",
    "# 웹 페이지에 HTTP GET 요청을 보내 HTML 코드 가져오기\n",
    "response = requests.get(url)\n",
    "html_content = response.text\n",
    "\n",
    "# BeautifulSoup 객체 생성\n",
    "soup = BeautifulSoup(html_content, 'html.parser')\n",
    "\n",
    "# 2. 원하는 데이터가 포함된 'div' 태그와 'list-item' 클래스명 찾기\n",
    "# 'list-item' 클래스를 가진 모든 'div' 태그를 articles 변수에 담습니다.\n",
    "articles = soup.find_all('div', class_='list-item')\n",
    "\n",
    "# articles 목록을 하나씩 돌면서 기사 제목과 링크를 추출합니다.\n",
    "for article in articles:\n",
    "    # 3. 제목 태그(h4)와 링크 태그(a)를 찾기\n",
    "    title_element = article.find('h4', class_='titles')\n",
    "    link_element = article.find('a', class_='lt')\n",
    "\n",
    "    # 만약 요소가 있다면 텍스트와 href 속성을 가져오기\n",
    "    if title_element and link_element:\n",
    "        title = title_element.get_text(strip=True)\n",
    "        link = \"https://www.aitimes.com\" + link_element['href']\n",
    "        print(f'제목: {title}, 링크: {link}')"
   ]
  },
  {
   "cell_type": "code",
   "execution_count": null,
   "id": "17be3e32",
   "metadata": {},
   "outputs": [],
   "source": []
  }
 ],
 "metadata": {
  "kernelspec": {
   "display_name": "Python 3",
   "language": "python",
   "name": "python3"
  },
  "language_info": {
   "codemirror_mode": {
    "name": "ipython",
    "version": 3
   },
   "file_extension": ".py",
   "mimetype": "text/x-python",
   "name": "python",
   "nbconvert_exporter": "python",
   "pygments_lexer": "ipython3",
   "version": "3.11.9"
  }
 },
 "nbformat": 4,
 "nbformat_minor": 5
}
